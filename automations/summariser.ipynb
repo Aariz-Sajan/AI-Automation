{
 "cells": [
  {
   "cell_type": "code",
   "execution_count": 29,
   "metadata": {},
   "outputs": [],
   "source": [
    "import os\n",
    "import requests\n",
    "import json\n",
    "from dotenv import load_dotenv\n",
    "from bs4 import BeautifulSoup\n",
    "from IPython.display import Markdown, display, update_display\n",
    "from openai import OpenAI"
   ]
  },
  {
   "cell_type": "markdown",
   "metadata": {},
   "source": [
    "What should the assisstant do? \n",
    "1. We obv dont want it to just call gpt cause you can do that yourself \n",
    "2. We want it to effectively summarise contents of a page you provide \n",
    "3. Find appropriate links on that page and disgard irrelevant ones \n",
    "4. Go to those links and get the relevent information which contribiutes to your understanding \n",
    "5. Add that to the summary \n",
    "6. Organise the summary and show which information is coming from where. "
   ]
  },
  {
   "cell_type": "markdown",
   "metadata": {},
   "source": [
    "pip install requests python-dotenv beautifulsoup4 ipython openai"
   ]
  },
  {
   "cell_type": "markdown",
   "metadata": {},
   "source": [
    "pip3 install requests python-dotenv beautifulsoup4 ipython openai"
   ]
  },
  {
   "cell_type": "code",
   "execution_count": 20,
   "metadata": {},
   "outputs": [],
   "source": [
    "#the code will ask the user for a url\n",
    "url = input(\"Enter the URL of the webpage you want to summarize: \")"
   ]
  },
  {
   "cell_type": "code",
   "execution_count": 30,
   "metadata": {},
   "outputs": [],
   "source": [
    "# Load API Key\n",
    "load_dotenv(override=True)\n",
    "api_key = os.getenv('OPENAI_API_KEY')\n",
    "\n",
    "MODEL = \"gpt-4o-mini\"\n",
    "openai = OpenAI(api_key=api_key)\n",
    "\n",
    "#for ollama instead of openai\n",
    "# import ollama\n",
    "# ollama.chat(model=\"llama3.2\", messages=[{\"role\": \"user\", \"content\": \"Hello, how are you?\"}])\n"
   ]
  },
  {
   "cell_type": "code",
   "execution_count": 22,
   "metadata": {},
   "outputs": [],
   "source": [
    "# Headers for requests\n",
    "headers = {\n",
    "    \"User-Agent\": \"Mozilla/5.0 (Windows NT 10.0; Win64; x64) AppleWebKit/537.36 (KHTML, like Gecko) Chrome/117.0.0.0 Safari/537.36\"\n",
    "}\n",
    "\n",
    "class Website:\n",
    "    def __init__(self, url):\n",
    "        self.url = url\n",
    "        response = requests.get(url, headers=headers)\n",
    "        self.body = response.content\n",
    "        soup = BeautifulSoup(self.body, 'html.parser')\n",
    "        self.title = soup.title.string if soup.title else \"No title found\"\n",
    "        if soup.body:\n",
    "            for irrelevant in soup.body([\"script\", \"style\", \"img\", \"input\"]):\n",
    "                irrelevant.decompose()\n",
    "            self.text = soup.body.get_text(separator=\"\\n\", strip=True)\n",
    "        else:\n",
    "            self.text = \"\"\n",
    "        self.links = [link.get('href') for link in soup.find_all('a') if link.get('href')]"
   ]
  },
  {
   "cell_type": "code",
   "execution_count": 23,
   "metadata": {},
   "outputs": [],
   "source": [
    "# Summarize main page\n",
    "system_prompt_main = \"You are an assistant that analyzes a webpage and provides an executive summary on the main topic discussed. Your goal is to educate the reader about the subject matter, NOT the organization. Ignore company descriptions, advertisements, marketing. Respond in markdown.\"\n",
    "\n",
    "def summarise_main_page(url):\n",
    "    website = Website(url)\n",
    "    response = openai.chat.completions.create(\n",
    "        model=MODEL,\n",
    "        messages=[\n",
    "            {\"role\": \"system\", \"content\": system_prompt_main},\n",
    "            {\"role\": \"user\", \"content\": f\"Website Title: {website.title}\\n\\nContent:\\n{website.text[:5000]}\"}\n",
    "        ],\n",
    "    )\n",
    "    return response.choices[0].message\n",
    "\n",
    "main_summary = summarise_main_page(url)"
   ]
  },
  {
   "cell_type": "code",
   "execution_count": 24,
   "metadata": {},
   "outputs": [
    {
     "name": "stdout",
     "output_type": "stream",
     "text": [
      "All gathered links: ['https://www.wsiworld.com', 'https://www.wsiworld.com/consultants', 'https://www.wsiworld.com/blog/how-ai-is-revolutionizing-seo/tel:905-678-7588', 'https://www.wsiworld.com', 'https://www.wsiworld.com/about-us/culture#video', 'https://www.wsiworld.com/about-us/why-wsi', 'https://www.wsiworld.com/about-us', 'https://www.wsiworld.com/about-us/leadership', 'https://www.wsiworld.com/about-us/awards', 'https://www.wsiworld.com/about-us/culture', 'https://www.wsiworld.com/our-services/leads-and-sales', 'https://www.wsiworld.com/our-services/website', 'https://www.wsiworld.com/our-services/ai-consulting', 'https://www.wsiworld.com/our-services/brand-awareness', 'https://www.wsiworld.com/our-services', 'https://www.wsiworld.com/speak-with-a-wsi-expert', 'https://www.wsiworld.com/customer-stories/case-studies', 'https://www.wsiworld.com/client-portfolio', 'https://www.wsiworld.com/customer-stories', 'https://www.wsiworld.com/global-expertise', 'https://www.wsiworld.com/local-results', 'https://www.wsiworld.com/speak-with-a-wsi-expert', 'https://www.wsiworld.com/learn', 'https://www.wsiworld.com/contact', 'https://marketing.wsiworld.com/blog-subscription', 'https://www.wsiworld.com/blog', 'https://www.wsiworld.com/learn/artificial-intelligence', 'https://www.wsiworld.com/blog/tag/seo', 'https://www.wsiworld.com/blog/author/anshita-sharma', 'https://www.wsiworld.com/blog/how-ai-is-revolutionizing-seo/our-services/adaptive-search-engine-optimization', 'https://www.wsiworld.com/blog/how-ai-is-revolutionizing-seo/blog/the-importance-of-refreshing-outdated-content', 'https://www.wsiworld.com/blog/how-ai-is-revolutionizing-seo/our-services/marketing-automation', 'https://www.ibm.com/topics/natural-language-processing', 'https://www.wsiworld.com/blog/how-ai-is-revolutionizing-seo/blog/the-rise-of-voice-search-optimizing-your-seo-content-for-the-future', 'https://www.wsiworld.com/blog/how-ai-is-revolutionizing-seo/our-services/web-analytics-and-reporting', 'https://www.wsiworld.com/blog/how-ai-is-revolutionizing-seo/blog/why-its-important-to-iterate-your-websites-design-and-ux', 'https://lens.google/', 'https://help.pinterest.com/en/article/pinterest-lens', 'https://www.wsiworld.com/blog/how-ai-is-revolutionizing-seo/learn', 'http://www.facebook.com/share.php?u=https://www.wsiworld.com/blog/how-ai-is-revolutionizing-seo', 'https://twitter.com/intent/tweet?original_referer=https://www.wsiworld.com/blog/how-ai-is-revolutionizing-seo&url=https://www.wsiworld.com/blog/how-ai-is-revolutionizing-seo&source=tweetbutton&text=How%20AI%20is%20Revolutionizing%20SEO', 'http://www.linkedin.com/shareArticle?mini=true&url=https://www.wsiworld.com/blog/how-ai-is-revolutionizing-seo', 'https://www.wsiworld.com/blog/tag/seo', 'https://www.wsiworld.com/blog/how-googles-ai-overview-is-affecting-your-seo', 'https://www.wsiworld.com/blog/how-to-future-proof-your-business-with-ai-powered-seo', 'https://www.wsiworld.com/blog/essential-steps-to-crafting-a-winning-seo-strategy', 'https://www.facebook.com/WSIWorld/', 'https://twitter.com/wsiworld', 'https://www.linkedin.com/company/wsi', 'https://www.youtube.com/user/WSIWorld', 'https://www.instagram.com/wsiworld/', 'https://www.wsiworld.com/accessibility', 'https://www.wsipaidsearch.com', 'https://www.wsiworld.com/accessibility', 'https://www.wsiworld.com/about-us/why-wsi', 'https://www.wsiworld.com/about-us', 'https://www.wsiworld.com/about-us/leadership', 'https://www.wsiworld.com/about-us/awards', 'https://www.wsiworld.com/about-us/culture', 'https://www.wsiworld.com/about-us/careers', 'https://www.wsiworld.com/about-us/wsi-in-the-community', 'https://www.wsiworld.com/contact', 'https://www.wsiworld.com/speak-with-a-wsi-expert', 'https://www.wsifranchise.com/', 'https://www.wsiworld.com/consultants', 'https://marketing.wsiworld.com/ai-business-analysis', 'https://marketing.wsiworld.com/ai-readiness', 'https://marketing.wsiworld.com/lead-generation-booster-kit', 'https://www.wsiworld.com/free-website-grader', 'https://marketing.wsiworld.com/free-competitive-analysis', 'https://www.wsiworld.com/our-services/competitive-analysis', 'https://www.wsiworld.com/our-services/buyer-persona-development', 'https://www.wsiworld.com/our-services/landing-page-optimization', 'https://www.wsiworld.com/our-services/web-design-and-development', 'https://www.wsiworld.com/our-services/ecommerce', 'https://www.wsiworld.com/our-services/content-marketing', 'https://www.wsiworld.com/our-services/digital-public-relations', 'https://www.wsiworld.com/our-services/inbound-marketing', 'https://www.wsiworld.com/our-services/social-media-marketing', 'https://www.wsiworld.com/our-services/facebook-ads', 'https://www.wsiworld.com/our-services/social-selling', 'https://www.wsiworld.com/our-services/digital-marketing-blueprint', 'https://www.wsiworld.com/our-services/paid-search-advertising', 'https://www.wsiworld.com/our-services/google-ads', 'https://www.wsiworld.com/our-services/microsoft-ads', 'https://www.wsiworld.com/our-services/adaptive-search-engine-optimization', 'https://www.wsiworld.com/our-services/marketing-automation', 'https://www.wsiworld.com/our-services/email-marketing', 'https://www.wsiworld.com/our-services/mobile-marketing', 'https://www.wsiworld.com/our-services/video-marketing', 'https://www.wsiworld.com/our-services/web-analytics-and-reporting', 'https://www.wsiworld.com/our-services/web-accessibility', 'https://www.wsiworld.com/our-services/fractional-cmo', 'https://www.wsiworld.com/our-services/web-essentials', 'https://www.wsiworld.com/our-services/ai-consulting', 'https://www.wsiworld.com/global-expertise', 'https://www.wsiworld.com/local-results', 'https://www.wsiworld.com/speak-with-a-wsi-expert', 'https://www.wsiworld.com/speakers', 'https://www.wsiworld.com/customer-stories/case-studies', 'https://www.wsiworld.com/client-portfolio', 'https://www.wsiworld.com/customer-stories', 'https://www.wsiworld.com/customer-stories/testimonials', 'https://www.wsiworld.com/learn', 'https://www.wsiworld.com/learn/artificial-intelligence', 'https://www.wsiworld.com/press-and-media', 'https://www.wsiworld.com/blog', 'https://marketing.wsiworld.com/blog-subscription', 'https://www.wsiworld.com/sitemap', 'https://www.wsiworld.com/privacy', 'https://www.wsiworld.com/cookie-policy', 'https://www.wsiworld.com/accessibility', 'https://www.wsiworld.com/ai-policy', 'https://www.wsiworld.com/content-usage-copyright-policy', 'https://www.wsiworld.com', 'https://www.wsiworld.lat', 'https://www.wsiworld.com.br', 'https://www.wsiworld.fr', 'https://www.wsiworld.es', 'https://www.wsiworld.nl', 'https://www.wsiworld.se', 'https://www.wsiworld.hu', 'https://www.wsiworld.dk', 'https://www.wsiworld.hr', 'https://www.wsiworld.com/consultants']\n"
     ]
    }
   ],
   "source": [
    "# Identify relevant links\n",
    "system_prompt_links = \"You are provided with a list of links from a webpage. Identify only those links that are relevant for understanding the main topic of the page. Ignore company-related pages like About, Services, or Careers. Respond in JSON format with full URLs.\"\n",
    "\n",
    "def get_all_links(url):\n",
    "    # Convert relative URLs to absolute URLs\n",
    "    website = Website(url)\n",
    "    base_url = url.rstrip('/')\n",
    "    full_links = []\n",
    "    \n",
    "    for link in website.links:\n",
    "        if link:\n",
    "            if link.startswith('http'):\n",
    "                full_links.append(link)\n",
    "            elif link.startswith('//'):\n",
    "                full_links.append('https:' + link)\n",
    "            elif link.startswith('/'):\n",
    "                full_links.append(base_url + link)\n",
    "            elif not link.startswith('#'):\n",
    "                full_links.append(base_url + '/' + link)\n",
    "    \n",
    "    print(\"All gathered links:\", full_links)\n",
    "    return full_links\n",
    "\n",
    "links = get_all_links(url)  # First get all links"
   ]
  },
  {
   "cell_type": "code",
   "execution_count": 25,
   "metadata": {},
   "outputs": [],
   "source": [
    "def get_relevant_links(full_links):\n",
    "    response = openai.chat.completions.create(\n",
    "        model=MODEL,\n",
    "        messages=[\n",
    "            {\"role\": \"system\", \"content\": system_prompt_links},\n",
    "            {\"role\": \"user\", \"content\": f\"here are the links: {full_links}\"}\n",
    "        ],\n",
    "        response_format={\"type\": \"json_object\"})\n",
    "    return json.loads(response.choices[0].message.content)  \n",
    "\n",
    "relevant_links = get_relevant_links(links)   "
   ]
  },
  {
   "cell_type": "code",
   "execution_count": 26,
   "metadata": {},
   "outputs": [],
   "source": [
    "#just so we can see the links\n",
    "# print(relevant_links)"
   ]
  },
  {
   "cell_type": "code",
   "execution_count": 27,
   "metadata": {},
   "outputs": [
    {
     "name": "stdout",
     "output_type": "stream",
     "text": [
      "dict_values([['https://www.wsiworld.com/blog/how-ai-is-revolutionizing-seo/', 'https://www.wsiworld.com/blog', 'https://www.wsiworld.com/blog/tag/seo', 'https://www.wsiworld.com/blog/how-googles-ai-overview-is-affecting-your-seo', 'https://www.wsiworld.com/blog/how-to-future-proof-your-business-with-ai-powered-seo', 'https://www.wsiworld.com/blog/essential-steps-to-crafting-a-winning-seo-strategy', 'https://www.wsiworld.com/learn', 'https://www.wsiworld.com/learn/artificial-intelligence', 'https://www.wsiworld.com/customer-stories/case-studies', 'https://www.wsiworld.com/customer-stories', 'https://www.wsiworld.com/our-services/competitive-analysis', 'https://www.wsiworld.com/our-services/buyer-persona-development', 'https://www.wsiworld.com/our-services/content-marketing', 'https://www.wsiworld.com/our-services/inbound-marketing', 'https://www.wsiworld.com/our-services/social-media-marketing', 'https://www.wsiworld.com/our-services/web-analytics-and-reporting', 'https://www.wsiworld.com/our-services/adaptive-search-engine-optimization', 'https://www.wsiworld.com/our-services/marketing-automation', 'https://www.wsiworld.com/our-services/email-marketing', 'https://www.wsiworld.com/our-services/video-marketing']])\n",
      "https://www.wsiworld.com/blog/how-ai-is-revolutionizing-seo/\n",
      "https://www.wsiworld.com/blog\n",
      "https://www.wsiworld.com/blog/tag/seo\n",
      "https://www.wsiworld.com/blog/how-googles-ai-overview-is-affecting-your-seo\n",
      "https://www.wsiworld.com/blog/how-to-future-proof-your-business-with-ai-powered-seo\n",
      "https://www.wsiworld.com/blog/essential-steps-to-crafting-a-winning-seo-strategy\n",
      "https://www.wsiworld.com/learn\n",
      "https://www.wsiworld.com/learn/artificial-intelligence\n",
      "https://www.wsiworld.com/customer-stories/case-studies\n",
      "https://www.wsiworld.com/customer-stories\n",
      "https://www.wsiworld.com/our-services/competitive-analysis\n",
      "https://www.wsiworld.com/our-services/buyer-persona-development\n",
      "https://www.wsiworld.com/our-services/content-marketing\n",
      "https://www.wsiworld.com/our-services/inbound-marketing\n",
      "https://www.wsiworld.com/our-services/social-media-marketing\n",
      "https://www.wsiworld.com/our-services/web-analytics-and-reporting\n",
      "https://www.wsiworld.com/our-services/adaptive-search-engine-optimization\n",
      "https://www.wsiworld.com/our-services/marketing-automation\n",
      "https://www.wsiworld.com/our-services/email-marketing\n",
      "https://www.wsiworld.com/our-services/video-marketing\n"
     ]
    }
   ],
   "source": [
    "print(relevant_links.values())\n",
    "\n",
    "# Extract the list of URLs\n",
    "links_list = list(relevant_links.values())[0]  # Extract the first (and only) value\n",
    "\n",
    "# Iterate over each link\n",
    "for link in links_list:\n",
    "    print(link)  # Now each URL is printed separately"
   ]
  },
  {
   "cell_type": "code",
   "execution_count": 28,
   "metadata": {},
   "outputs": [
    {
     "data": {
      "text/markdown": [
       "# Executive Summary: How AI is Revolutionizing SEO\n",
       "\n",
       "Artificial Intelligence (AI) is fundamentally transforming the landscape of Search Engine Optimization (SEO), enhancing how digital marketers approach various aspects of SEO strategies. The integration of AI into SEO practices focuses on improving search algorithms, automating essential tasks, and enriching user experiences—leading to more effective digital marketing results.\n",
       "\n",
       "## Key Areas of Transformation\n",
       "\n",
       "### 1. Enhanced Search Engine Crawling and Indexing\n",
       "- **Advanced Algorithms**: AI utilizes advanced algorithms that move beyond traditional keyword density metrics. It focuses on content quality, keyword context, and contextual relevance based on user engagement metrics.\n",
       "- **Personalization**: By refining search results through a comprehensive analysis of user interactions, AI can deliver more tailored outputs.\n",
       "\n",
       "### 2. Content Creation and Optimization\n",
       "- **AI Content Tools**: Digital marketers leverage AI tools that can generate high-quality, optimized content at scale, utilizing insights on user behavior.\n",
       "- **Keyword Management**: AI assists in identifying optimal keywords, optimizing meta tags, and ensuring content readability, ultimately boosting search rankings and reducing bounce rates.\n",
       "\n",
       "### 3. Voice Search Optimization\n",
       "- **Natural Language Processing (NLP)**: AI advances in NLP are driving the trend towards voice search, necessitating that marketers optimize content for conversational queries.\n",
       "- **Structured Data Automation**: AI facilitates the implementation of structured data to enhance the visibility of content in voice search results.\n",
       "\n",
       "### 4. Predictive Analytics\n",
       "- **Understanding User Intent**: By analyzing user behaviors, AI helps marketers align content strategies with user intent, attracting relevant traffic.\n",
       "- **Forecasting Trends**: AI tools can predict future trends and user behaviors, enabling marketers to stay ahead in a dynamic SEO environment.\n",
       "\n",
       "### 5. Improved User Experience (UX)\n",
       "- **UX Optimization Suggestions**: AI analyzes user behavior to suggest enhancements that improve the overall user experience on websites.\n",
       "- **Personalized Recommendations**: By tailoring content recommendations to user preferences, AI helps ensure users find relevant information quickly, potentially increasing engagement time.\n",
       "\n",
       "## Conclusion\n",
       "AI has become a game-changer in the realm of SEO, enabling marketers to create more effective, data-driven strategies. The ability to harness insights from AI not only optimizes search engine interactions but also enhances user engagement and experience, ultimately driving better marketing outcomes. As AI continues to evolve, its influence on SEO will likely expand, making it essential for marketers to embrace these technologies."
      ],
      "text/plain": [
       "<IPython.core.display.Markdown object>"
      ]
     },
     "metadata": {},
     "output_type": "display_data"
    },
    {
     "name": "stdout",
     "output_type": "stream",
     "text": [
      "5\n",
      "link 0: https://www.wsiworld.com/blog\n"
     ]
    },
    {
     "data": {
      "text/markdown": [
       "# Executive Summary on Digital Marketing Trends\n",
       "\n",
       "The content discusses various aspects of digital marketing, focusing on best practices, emerging technologies, and the importance of tailoring strategies to meet specific client needs.\n",
       "\n",
       "## Key Components of Digital Marketing:\n",
       "\n",
       "1. **Customization Over Standardization:**\n",
       "   - The importance of avoiding cookie-cutter approaches to digital marketing is emphasized. Customized strategies can lead to better engagement and conversion.\n",
       "\n",
       "2. **Services Offered:**\n",
       "   - A range of services is available, including lead generation, website design, AI consulting, and brand awareness initiatives. Each service aims to leverage current technologies and techniques to enhance client performance.\n",
       "\n",
       "3. **Emerging Trends:**\n",
       "   - The blog highlights the pivotal role of AI in transforming marketing strategies. It discusses how AI-driven tools can revolutionize search marketing and optimize SEO practices, reflecting ongoing changes in consumer behavior and technology usage.\n",
       "\n",
       "4. **Content Marketing:**\n",
       "   - Strategies for effective content marketing are detailed, including the significance of landing pages and the impact of video content. The shift towards video-first content is noted, as it increases discoverability online.\n",
       "\n",
       "5. **Customer Experience:**\n",
       "   - The discussion also covers customer experience, emphasizing web accessibility as a crucial element. Creating user-friendly experiences can significantly enhance customer engagement and satisfaction.\n",
       "\n",
       "6. **Educational Resources:**\n",
       "   - A rich repository of resources is available to help marketers enhance their knowledge, encompassing ebooks, videos, and more, demonstrating a commitment to continuous learning in the evolving digital landscape.\n",
       "\n",
       "7. **Community and Collaboration:**\n",
       "   - The organization positions itself as a collaborative partner in the digital marketing field, encouraging consultations to offer tailored marketing strategies driven by global insights.\n",
       "\n",
       "In summary, the content from this digital marketing platform underscores the necessity of personalized approaches, the integration of AI tools, and a strong emphasis on educational resources to navigate the rapidly changing digital marketing environment effectively."
      ],
      "text/plain": [
       "<IPython.core.display.Markdown object>"
      ]
     },
     "metadata": {},
     "output_type": "display_data"
    },
    {
     "name": "stdout",
     "output_type": "stream",
     "text": [
      "link 1: https://www.wsiworld.com/blog/tag/seo\n"
     ]
    },
    {
     "data": {
      "text/markdown": [
       "# Executive Summary: SEO and Its Evolution with AI\n",
       "\n",
       "The content on the analyzed webpage discusses various aspects of Search Engine Optimization (SEO), particularly in the context of advancements in artificial intelligence (AI). It outlines the transformation that SEO is undergoing due to AI technologies, highlighting significant themes and practical strategies for businesses looking to adapt to these changes.\n",
       "\n",
       "## Key Topics Covered\n",
       "\n",
       "### 1. **AI and SEO Revolution**\n",
       "   - The integration of AI into SEO is reshaping how algorithms function, improving the efficiency and effectiveness of search processes. AI enhances user experience by enabling more accurate search results and personalized content recommendations.\n",
       "\n",
       "### 2. **Future-Proofing Businesses**\n",
       "   - The articles stress the importance of adopting AI-powered SEO strategies to stay competitive. Businesses are encouraged to leverage AI tools to optimize their marketing efforts, thus achieving outcomes that traditional methods may not produce.\n",
       "\n",
       "### 3. **Crafting an Effective SEO Strategy**\n",
       "   - The webpage provides essential steps for developing a robust SEO strategy that encompasses goal setting, conducting audits, and utilizing AI for optimization. A structured approach to these elements can significantly enhance online visibility.\n",
       "\n",
       "### 4. **Trending Topics in SEO**\n",
       "   - Recent discussions in the SEO space include concepts like \"Search Generative Experience\" (SGE) and the impact of zero-click searches. These trends require businesses to remain agile and informed about how search behavior is evolving.\n",
       "\n",
       "### 5. **Resources for Learning**\n",
       "   - The site offers various resources, including articles and case studies, aimed at educating readers about contemporary SEO practices and the necessity for adaptation in digital marketing strategies.\n",
       "\n",
       "### Conclusion\n",
       "The overarching theme is the critical intersection of AI and SEO, providing businesses with both challenges and opportunities. The continual evolution of search algorithms and user interaction necessitates strategic adjustments to ensure optimal digital presence. By embracing these changes and utilizing available resources, organizations can enhance their lead generation and overall marketing effectiveness."
      ],
      "text/plain": [
       "<IPython.core.display.Markdown object>"
      ]
     },
     "metadata": {},
     "output_type": "display_data"
    },
    {
     "name": "stdout",
     "output_type": "stream",
     "text": [
      "link 2: https://www.wsiworld.com/blog/how-googles-ai-overview-is-affecting-your-seo\n"
     ]
    },
    {
     "data": {
      "text/markdown": [
       "# How Google’s AI Overviews Are Shaping SEO\n",
       "\n",
       "## Introduction to AI Overviews\n",
       "Google's AI Overviews (AIO) is a new search feature that leverages artificial intelligence to provide direct answers to user queries by summarizing information from various online sources. Instead of relying solely on keywords, AIO aims to understand the intent behind queries and deliver relevant answers, significantly impacting search engine optimization (SEO) strategies.\n",
       "\n",
       "## Key Implications for SEO\n",
       "\n",
       "### Enhanced Content Understanding\n",
       "The introduction of AIO has improved Google's ability to comprehend the context and intent behind digital content. This advancement means that content creators must develop high-quality, in-depth material that addresses user queries effectively, as generalized or thin content is less likely to rank well.\n",
       "\n",
       "### Importance of E-E-A-T\n",
       "AIO enhances Google's assessment of content based on the principles of Experience, Expertise, Authoritativeness, and Trustworthiness (E-E-A-T). To effectively leverage AIO, it is essential to produce content authored by qualified experts, incorporate reputable references, and maintain robust content quality signals. Additionally, maintaining a secure website (HTTPS) and providing clear privacy policies can further enhance trust with users.\n",
       "\n",
       "### Focusing on Content Quality\n",
       "AIO prioritizes comprehensive content over superficial entries. To adapt, businesses should focus on creating rich, informative content that satisfies both Google’s criteria and user expectations. Regular updates to existing content are also crucial to maintain relevance.\n",
       "\n",
       "### Personalization in Search Results\n",
       "AIO tailors search results based on user behavior, location, and preferences. Businesses should employ local SEO tactics such as optimizing Google Business Profiles, using localized keywords, and engaging with the local community via social media to enhance visibility.\n",
       "\n",
       "### Utilizing Topic Clusters\n",
       "AI's ability to understand semantic intent supports the creation of content structured around topic clusters. This involves using internal links and addressing related subtopics to boost overall context relevance and improve search rankings.\n",
       "\n",
       "### Combatting Spam and Manipulative Tactics\n",
       "AIO’s sophisticated AI can identify and penalize manipulative SEO practices like keyword stuffing. Ethical SEO practices, such as building backlinks through genuine content and relationships, are increasingly vital for maintaining rankings.\n",
       "\n",
       "### Visual and Multimodal Search\n",
       "With improved visual search capabilities, AIO processes various content forms simultaneously. To optimize this multimedia content, it's important to use proper metadata, image attributes, and ensure the quality of visual assets.\n",
       "\n",
       "### Managing Zero-Click Content\n",
       "Zero-click content answers queries within the search interface, enhancing user experience while minimizing direct website traffic. Effective strategies for zero-click content include optimizing for featured snippets, maintaining an active social media presence, and providing engaging content that encourages user interaction.\n",
       "\n",
       "## Future Considerations\n",
       "As Google continues to evolve AIO, staying updated on changes and adjustments is crucial. Businesses are encouraged to adapt their SEO strategies accordingly, ensuring they remain competitive in this shifting landscape.\n",
       "\n",
       "## Conclusion\n",
       "The integration of Google’s AI Overviews represents a significant shift in how SEO is approached. Quality, relevance, personalization, and ethical practices will be paramount to thriving in this new SEO environment shaped by AI capabilities. For those preparing for the future of SEO, embracing these changes and adapting strategies accordingly will be essential."
      ],
      "text/plain": [
       "<IPython.core.display.Markdown object>"
      ]
     },
     "metadata": {},
     "output_type": "display_data"
    },
    {
     "name": "stdout",
     "output_type": "stream",
     "text": [
      "link 3: https://www.wsiworld.com/blog/how-to-future-proof-your-business-with-ai-powered-seo\n"
     ]
    },
    {
     "data": {
      "text/markdown": [
       "# Executive Summary: Future-Proofing Your Business with AI-Powered SEO\n",
       "\n",
       "The integration of artificial intelligence (AI) into search engine optimization (SEO) is transforming the digital marketing landscape. AI-powered SEO leverages advanced algorithms, machine learning, and language processing to enhance the effectiveness and efficiency of SEO strategies, ultimately helping businesses achieve higher search engine rankings.\n",
       "\n",
       "## Key Benefits of AI-Powered SEO\n",
       "\n",
       "1. **Enhanced Efficiency**: AI tools can analyze web pages to provide highly precise recommendations for improving search rankings much faster than traditional methods.\n",
       "2. **Content Creation**: AI accelerates content generation, allowing marketers to produce personalized and engaging material tailored to specific audiences.\n",
       "3. **Idea Generation**: AI can brainstorm new content ideas and find opportunities for link-building and technical SEO improvements.\n",
       "\n",
       "## The Rise of AI Overviews and Zero-Click Searches\n",
       "\n",
       "Google's AI Overviews and zero-click searches are significant developments in SEO. AI Overviews provide summarized answers to user queries directly on the search engine results page (SERP), thereby increasing content visibility but potentially reducing traffic to the actual website. Zero-click searches allow users to obtain answers without clicking through to the source, indicating a shift in user behavior and engagement patterns.\n",
       "\n",
       "### Strategies to Adapt:\n",
       "\n",
       "- **Quality Content Focus**: Instead of prioritizing keyword optimization, creating authoritative, engaging content that addresses user needs should be the main goal.\n",
       "- **User Experience Improvement**: A positive user experience will help boost engagement metrics and ultimately improve search rankings.\n",
       "- **Video Content Utilization**: Prioritizing video content can enhance discoverability across various platforms and cater to evolving search behaviors as search engines improve in indexing multimedia formats.\n",
       "\n",
       "## Understanding Search Intent\n",
       "\n",
       "A critical aspect of AI-powered SEO is grasping user search intent, categorized as informational, navigational, commercial, or transactional. Understanding these intents allows businesses to create targeted content that meets users' needs and enhances their overall experience.\n",
       "\n",
       "## Creating “Pull-Through” Content\n",
       "\n",
       "To combat challenges posed by AI Overviews and zero-click searches, businesses should focus on developing \"pull-through\" content that is too detailed or nuanced for AI summaries. This type of content should engage users deeply, encouraging them to visit the source site for further insights.\n",
       "\n",
       "## Engaging Users with Interactive Tools\n",
       "\n",
       "AI can also enhance user engagement through interactive content such as calculators, quizzes, and configurators, all of which are easily created with AI tools. These elements improve user interaction and can drive conversions effectively.\n",
       "\n",
       "## Conclusion\n",
       "\n",
       "Future-proofing SEO strategies with AI is essential for businesses to remain competitive. By leveraging AI for data analysis, understanding user intent, and continuously adapting content strategies, businesses can ensure they thrive in a rapidly evolving digital marketing environment. Maintaining a focus on quality, originality, and user experience will position businesses for greater success in the age of AI-driven SEO."
      ],
      "text/plain": [
       "<IPython.core.display.Markdown object>"
      ]
     },
     "metadata": {},
     "output_type": "display_data"
    },
    {
     "name": "stdout",
     "output_type": "stream",
     "text": [
      "link 4: https://www.wsiworld.com/blog/essential-steps-to-crafting-a-winning-seo-strategy\n"
     ]
    },
    {
     "data": {
      "text/markdown": [
       "# Executive Summary: Essential Steps to Crafting a Winning SEO Strategy\n",
       "\n",
       "In today's digital landscape, a robust Search Engine Optimization (SEO) strategy is crucial for businesses of all sizes to establish an online presence, build credibility, and drive traffic. Here are the essential steps for creating an effective SEO strategy:\n",
       "\n",
       "## 1. Define Your Goals\n",
       "Begin with specific, measurable, achievable, relevant, and time-bound (SMART) goals that align with your overall business objectives. Common goals include increasing organic traffic, enhancing engagement, and improving conversion rates.\n",
       "\n",
       "## 2. Perform a Comprehensive SEO Audit\n",
       "Conduct an audit to assess your current SEO standing. Evaluate your website's content quality, backlink profile, site architecture, and ensure proper configuration of technical elements like robots.txt and sitemaps.\n",
       "\n",
       "## 3. Conduct Keyword Research\n",
       "Identify relevant, high-volume, low-competition keywords using research tools. Focus on understanding user intent to effectively target your audience. Long-tail keywords are particularly effective in attracting specific traffic at different stages of the conversion funnel.\n",
       "\n",
       "## 4. Analyze the Competition\n",
       "Perform a competitive analysis to identify your competitors' strengths and weaknesses. Utilize tools to explore their keyword rankings and backlink profiles, which can reveal optimization opportunities for your own strategy.\n",
       "\n",
       "## 5. Develop a Content Strategy\n",
       "Create a content strategy that builds authority and engages your target audience. Define your goals, understand your customer profiles, audit existing content, and set a realistic content calendar. Optimize content for SEO by naturally incorporating keywords and enhancing overall readability.\n",
       "\n",
       "## 6. Build a Link-Building Strategy\n",
       "Quality backlinks are essential for improving domain authority. Create shareable content, reach out to website owners for backlinks, and improve site usability to attract authoritative links.\n",
       "\n",
       "## 7. Leverage AI for Optimization\n",
       "AI technologies can significantly enhance SEO efforts. Automation of keyword research, competitor analysis, content optimization, and technical audits allows SEO professionals to focus on strategic tasks. AI can also aid in predicting trends and improving local SEO approaches.\n",
       "\n",
       "## Conclusion\n",
       "Crafting a winning SEO strategy requires careful planning, continuous analysis, and committed execution. By following these steps and incorporating AI, businesses can optimize their SEO efforts for sustained growth and improved online visibility. Remember that SEO is a long-term commitment; begin today to enhance your online presence and achieve your desired results."
      ],
      "text/plain": [
       "<IPython.core.display.Markdown object>"
      ]
     },
     "metadata": {},
     "output_type": "display_data"
    }
   ],
   "source": [
    "#scrape the content of each link in the links_list\n",
    "\n",
    "# print(len(links_list))\n",
    "display(Markdown(main_summary.content))\n",
    "#update links list to only have the links that are not the main page\n",
    "links_list = [link for link in links_list if link != url]\n",
    "\n",
    "#max 5 links, from link 1 to link 5 because the first link is usually the main page\n",
    "links_list = links_list[1:6]\n",
    "\n",
    "print(len(links_list))\n",
    "\n",
    "for i in range(len(links_list)):\n",
    "    response = requests.get(links_list[i], headers=headers)\n",
    "    soup = BeautifulSoup(response.content, 'html.parser')\n",
    "    text = soup.get_text(separator=\"\\n\", strip=True)\n",
    "    print(f\"link {i}: {links_list[i]}\")\n",
    "    #use gpt to cut out the irrelevant content and summarize the content\n",
    "    response = openai.chat.completions.create(\n",
    "        model=MODEL,\n",
    "        messages=[\n",
    "            {\"role\": \"system\", \"content\": system_prompt_main},\n",
    "            {\"role\": \"user\", \"content\": f\"Here is the page content: {text}\"}\n",
    "        ],\n",
    "    )\n",
    "    link_summary = response.choices[0].message.content\n",
    "    display(Markdown(link_summary))\n",
    "\n",
    "\n",
    "#display the main summary and the link summaries"
   ]
  }
 ],
 "metadata": {
  "language_info": {
   "name": "python"
  }
 },
 "nbformat": 4,
 "nbformat_minor": 2
}
